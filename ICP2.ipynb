{
  "nbformat": 4,
  "nbformat_minor": 0,
  "metadata": {
    "colab": {
      "provenance": [],
      "authorship_tag": "ABX9TyPEdrjU4SLVibq2OfKoRnCw",
      "include_colab_link": true
    },
    "kernelspec": {
      "name": "python3",
      "display_name": "Python 3"
    },
    "language_info": {
      "name": "python"
    }
  },
  "cells": [
    {
      "cell_type": "markdown",
      "metadata": {
        "id": "view-in-github",
        "colab_type": "text"
      },
      "source": [
        "<a href=\"https://colab.research.google.com/github/Sandeep09091999/NeuralNetworks/blob/main/ICP2.ipynb\" target=\"_parent\"><img src=\"https://colab.research.google.com/assets/colab-badge.svg\" alt=\"Open In Colab\"/></a>"
      ]
    },
    {
      "cell_type": "code",
      "execution_count": 1,
      "metadata": {
        "colab": {
          "base_uri": "https://localhost:8080/",
          "height": 0
        },
        "id": "2Qz0FnYJAyXr",
        "outputId": "855f16ac-7507-47e8-9702-68e95c1424cd"
      },
      "outputs": [
        {
          "output_type": "stream",
          "name": "stdout",
          "text": [
            "Employee Name: sandeep, Family Name: m, Salary: $50000, Department: Human Resources\n",
            "Employee Name: venkat, Family Name: Johnson, Salary: $40000, Department: Front desk\n",
            "Employee Name: vivek, Family Name: Williams, Salary: $70000, Department: Developer\n",
            "Average Salary: $53,333.33\n",
            "Total Number of Employees: 3\n"
          ]
        }
      ],
      "source": [
        "class Employee:\n",
        "    # Class attributes to track the total number of employees and the sum of all salaries\n",
        "    num_employees = 0\n",
        "    cumulative_salary = 0\n",
        "\n",
        "    def __init__(self, name, family, salary, department):\n",
        "        # Instance attributes for each employee's details\n",
        "        self.name = name\n",
        "        self.family = family\n",
        "        self.salary = salary\n",
        "        self.department = department\n",
        "\n",
        "        # Update class attributes when a new employee is instantiated\n",
        "        Employee.num_employees += 1\n",
        "        Employee.cumulative_salary += salary\n",
        "\n",
        "    # Class method to compute the average salary of all employees\n",
        "    @classmethod\n",
        "    def calculate_average_salary(cls):\n",
        "        if cls.num_employees == 0:\n",
        "            return 0\n",
        "        return cls.cumulative_salary / cls.num_employees\n",
        "\n",
        "    # Method to present employee information\n",
        "    def show_details(self):\n",
        "        return f\"Employee Name: {self.name}, Family Name: {self.family}, Salary: ${self.salary}, Department: {self.department}\"\n",
        "\n",
        "\n",
        "# FulltimeEmployee class, inheriting from Employee\n",
        "class FulltimeEmployee(Employee):\n",
        "    def __init__(self, name, family, salary, department):\n",
        "        # Initialize the parent Employee class\n",
        "        super().__init__(name, family, salary, department)\n",
        "\n",
        "    # Additional methods specific to FulltimeEmployee can be added here if required\n",
        "\n",
        "\n",
        "# Creating instances of Employee and FulltimeEmployee\n",
        "emp1 = Employee(\"sandeep\", \"m\", 50000, \"Human Resources\")\n",
        "emp2 = Employee(\"venkat\", \"Johnson\", 40000, \"Front desk\")\n",
        "ft_emp1 = FulltimeEmployee(\"vivek\", \"Williams\", 70000, \"Developer\")\n",
        "\n",
        "# Displaying employee details\n",
        "print(emp1.show_details())\n",
        "print(emp2.show_details())\n",
        "print(ft_emp1.show_details())\n",
        "\n",
        "# Calculating and displaying the average salary\n",
        "print(f\"Average Salary: ${Employee.calculate_average_salary():,.2f}\")\n",
        "\n",
        "# Display the total number of employees\n",
        "print(f\"Total Number of Employees: {Employee.num_employees}\")"
      ]
    },
    {
      "cell_type": "code",
      "source": [
        "import numpy as np\n",
        "\n",
        "# Step 1: Create a random vector of size 20 with floats in the range 1-20\n",
        "random_vector = np.random.uniform(1, 20, 20)\n",
        "\n",
        "# Step 2: Reshape the array to 4x5\n",
        "reshaped_array = random_vector.reshape(4, 5)\n",
        "\n",
        "# Step 3: Replace the maximum value in each row with 0 (without using a for loop)\n",
        "# Use np.max along with np.where\n",
        "max_in_row_indices = np.argmax(reshaped_array, axis=1)  # Get indices of max values in each row\n",
        "reshaped_array[np.arange(reshaped_array.shape[0]), max_in_row_indices] = 0\n",
        "\n",
        "# Output the result\n",
        "print(\"Reshaped array after replacing max in each row with 0:\\n\", reshaped_array)"
      ],
      "metadata": {
        "colab": {
          "base_uri": "https://localhost:8080/",
          "height": 0
        },
        "id": "6mDyPYI7A_ps",
        "outputId": "2bcf680f-2550-4543-e1aa-0fa40a3acb47"
      },
      "execution_count": 2,
      "outputs": [
        {
          "output_type": "stream",
          "name": "stdout",
          "text": [
            "Reshaped array after replacing max in each row with 0:\n",
            " [[ 3.13581412  7.32442326  0.         11.00876989  7.54991498]\n",
            " [ 1.60113562  0.         12.84109924  9.94363228 17.87106697]\n",
            " [18.67236918 13.7821597  14.59239392 14.57625578  0.        ]\n",
            " [ 3.33936055  3.23254071  2.49483351  8.02405857  0.        ]]\n"
          ]
        }
      ]
    }
  ]
}