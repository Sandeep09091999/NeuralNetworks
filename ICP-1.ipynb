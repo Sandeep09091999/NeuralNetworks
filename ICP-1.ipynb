{
  "nbformat": 4,
  "nbformat_minor": 0,
  "metadata": {
    "colab": {
      "provenance": []
    },
    "kernelspec": {
      "name": "python3",
      "display_name": "Python 3"
    },
    "language_info": {
      "name": "python"
    }
  },
  "cells": [
    {
      "cell_type": "code",
      "execution_count": 1,
      "metadata": {
        "colab": {
          "base_uri": "https://localhost:8080/"
        },
        "id": "ePvMxFOgAi3m",
        "outputId": "9a922d81-74b6-4e59-ecbc-179d8a45d70b"
      },
      "outputs": [
        {
          "output_type": "stream",
          "name": "stdout",
          "text": [
            "First_name = Sandeep\n",
            "Last_name = Mucherla\n",
            "Full Name =  Sandeep Mucherla\n"
          ]
        }
      ],
      "source": [
        "def fullname():\n",
        "  first_name = input(\"First_name = \")\n",
        "  last_name = input(\"Last_name = \")\n",
        "  full_name = first_name + \" \" + last_name\n",
        "  print(\"Full Name = \", full_name)\n",
        "\n",
        "\n",
        "if __name__==\"__main__\":\n",
        "    fullname()\n"
      ]
    },
    {
      "cell_type": "code",
      "source": [
        "def string_alternative(full_name):\n",
        "    # Return every other character\n",
        "    return full_name[::2]\n",
        "\n",
        "def main():\n",
        "    str = input(\"Enter a string:\")\n",
        "    result = string_alternative(str)\n",
        "    print(result)\n",
        "\n",
        "# Call the main function\n",
        "if __name__ == \"__main__\":\n",
        "    main()\n"
      ],
      "metadata": {
        "colab": {
          "base_uri": "https://localhost:8080/"
        },
        "id": "qMDgJsZPJr5t",
        "outputId": "5411609e-5c37-4f41-c849-da738f03a1a4"
      },
      "execution_count": 2,
      "outputs": [
        {
          "output_type": "stream",
          "name": "stdout",
          "text": [
            "Enter a string:Good evening\n",
            "Go vnn\n"
          ]
        }
      ]
    },
    {
      "cell_type": "code",
      "source": [
        "from google.colab import drive\n",
        "drive.mount('/content/drive')"
      ],
      "metadata": {
        "colab": {
          "base_uri": "https://localhost:8080/"
        },
        "id": "fxd9EVNDH_zG",
        "outputId": "7ef46b2d-6b29-44f7-e7d0-d81d4fdd8369"
      },
      "execution_count": 4,
      "outputs": [
        {
          "output_type": "stream",
          "name": "stdout",
          "text": [
            "Mounted at /content/drive\n"
          ]
        }
      ]
    },
    {
      "cell_type": "code",
      "source": [
        "def count_words_in_file(input_file, output_file):\n",
        "    word_count = {}\n",
        "\n",
        "    with open(input_file, 'r') as infile:\n",
        "        lines = infile.readlines()\n",
        "\n",
        "    with open(output_file, 'w') as outfile:\n",
        "        for line in lines:\n",
        "            outfile.write(line)\n",
        "            words = line.split()\n",
        "            for word in words:\n",
        "                word_count[word] = word_count.get(word, 0) + 1\n",
        "\n",
        "        # Write the word count section to the output file\n",
        "        outfile.write(\"\\nWord_Count:\\n\")\n",
        "        for word, count in word_count.items():\n",
        "            outfile.write(f\"{word}: {count}\\n\")\n",
        "\n",
        "# Specify the input and output file names\n",
        "input_file = '/content/drive/MyDrive/input.txt'\n",
        "output_file = '/content/drive/MyDrive/output.txt'\n",
        "\n",
        "# Call the function to count words and store the output\n",
        "count_words_in_file(input_file, output_file)\n"
      ],
      "metadata": {
        "id": "zQ1nfYPuEQ3p"
      },
      "execution_count": 5,
      "outputs": []
    },
    {
      "cell_type": "code",
      "source": [
        "def convert_heights_nested_loop(heights_in_inches):\n",
        "    heights_in_cm = []\n",
        "    for height in heights_in_inches:\n",
        "        cm = height * 2.54\n",
        "        heights_in_cm.append(round(cm, 2))  # Convert to cm and round to 2 decimal places\n",
        "    return heights_in_cm\n",
        "\n",
        "def main():\n",
        "    # Example list of heights in inches\n",
        "    L1 = [150, 155, 145, 148]\n",
        "    L2 = convert_heights_nested_loop(L1)\n",
        "    print(\"Heights in centimeters using nested loop:\", L2)\n",
        "\n",
        "# Call the main function\n",
        "if __name__ == \"__main__\":\n",
        "    main()\n"
      ],
      "metadata": {
        "colab": {
          "base_uri": "https://localhost:8080/"
        },
        "id": "wqQ7Zr8MKV3y",
        "outputId": "c4842885-b360-4b17-b66c-1963275ce0e9"
      },
      "execution_count": 6,
      "outputs": [
        {
          "output_type": "stream",
          "name": "stdout",
          "text": [
            "Heights in centimeters using nested loop: [381.0, 393.7, 368.3, 375.92]\n"
          ]
        }
      ]
    },
    {
      "cell_type": "code",
      "source": [
        "def convert_heights_list_comprehension(heights_in_inches):\n",
        "    return [round(height * 2.54, 2) for height in heights_in_inches]\n",
        "\n",
        "def main():\n",
        "    # Example list of heights in inches\n",
        "    L1 = [150, 155, 145, 148]\n",
        "    L2 = convert_heights_list_comprehension(L1)\n",
        "    print(\"Heights in centimeters using list comprehension:\", L2)\n",
        "\n",
        "# Call the main function\n",
        "if __name__ == \"__main__\":\n",
        "    main()\n"
      ],
      "metadata": {
        "colab": {
          "base_uri": "https://localhost:8080/"
        },
        "id": "cy7rXeRFMOtL",
        "outputId": "fa6f4452-0464-46f1-8214-eb9f85f078fd"
      },
      "execution_count": 7,
      "outputs": [
        {
          "output_type": "stream",
          "name": "stdout",
          "text": [
            "Heights in centimeters using list comprehension: [381.0, 393.7, 368.3, 375.92]\n"
          ]
        }
      ]
    }
  ]
}